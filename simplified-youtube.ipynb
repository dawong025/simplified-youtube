{
 "cells": [
  {
   "cell_type": "markdown",
   "id": "a37ef783",
   "metadata": {
    "papermill": {
     "duration": 0.004113,
     "end_time": "2025-04-21T06:02:49.580561",
     "exception": false,
     "start_time": "2025-04-21T06:02:49.576448",
     "status": "completed"
    },
    "tags": []
   },
   "source": [
    "# Google x Kaggle Gen AI Capstone Project - Simplified Youtube\n",
    "\n",
    "## Introduction\n",
    "Simplified Youtube is a way for people to get a simplified understanding of Youtube videos through the Youtube Transcript API.\n",
    "\n",
    "## Applications\n",
    "- For students, it gives them an opportunity to understand lectures at a high level. The summary and additional keywords allows for students to focus on particular concepts.\n",
    "- For entertainment watchers, it gives users the chance to \n"
   ]
  },
  {
   "cell_type": "markdown",
   "id": "dec5f4ca",
   "metadata": {
    "papermill": {
     "duration": 0.003179,
     "end_time": "2025-04-21T06:02:49.587357",
     "exception": false,
     "start_time": "2025-04-21T06:02:49.584178",
     "status": "completed"
    },
    "tags": []
   },
   "source": [
    "## Setup\n",
    "\n",
    "Start by installing and importing the Python SDK"
   ]
  },
  {
   "cell_type": "code",
   "execution_count": 1,
   "id": "5f72f21d",
   "metadata": {
    "execution": {
     "iopub.execute_input": "2025-04-21T06:02:49.595525Z",
     "iopub.status.busy": "2025-04-21T06:02:49.595193Z",
     "iopub.status.idle": "2025-04-21T06:03:02.091216Z",
     "shell.execute_reply": "2025-04-21T06:03:02.090132Z"
    },
    "papermill": {
     "duration": 12.502638,
     "end_time": "2025-04-21T06:03:02.093289",
     "exception": false,
     "start_time": "2025-04-21T06:02:49.590651",
     "status": "completed"
    },
    "tags": []
   },
   "outputs": [
    {
     "name": "stdout",
     "output_type": "stream",
     "text": [
      "\u001b[2K   \u001b[90m━━━━━━━━━━━━━━━━━━━━━━━━━━━━━━━━━━━━━━━━\u001b[0m \u001b[32m144.7/144.7 kB\u001b[0m \u001b[31m4.5 MB/s\u001b[0m eta \u001b[36m0:00:00\u001b[0m\r\n",
      "\u001b[2K   \u001b[90m━━━━━━━━━━━━━━━━━━━━━━━━━━━━━━━━━━━━━━━━\u001b[0m \u001b[32m100.9/100.9 kB\u001b[0m \u001b[31m6.4 MB/s\u001b[0m eta \u001b[36m0:00:00\u001b[0m\r\n",
      "\u001b[?25h\u001b[31mERROR: pip's dependency resolver does not currently take into account all the packages that are installed. This behaviour is the source of the following dependency conflicts.\r\n",
      "jupyterlab-lsp 3.10.2 requires jupyterlab<4.0.0a0,>=3.1.0, which is not installed.\u001b[0m\u001b[31m\r\n",
      "\u001b[0mCollecting youtube_transcript_api\r\n",
      "  Downloading youtube_transcript_api-1.0.3-py3-none-any.whl.metadata (23 kB)\r\n",
      "Requirement already satisfied: defusedxml<0.8.0,>=0.7.1 in /usr/local/lib/python3.11/dist-packages (from youtube_transcript_api) (0.7.1)\r\n",
      "Requirement already satisfied: requests in /usr/local/lib/python3.11/dist-packages (from youtube_transcript_api) (2.32.3)\r\n",
      "Requirement already satisfied: charset-normalizer<4,>=2 in /usr/local/lib/python3.11/dist-packages (from requests->youtube_transcript_api) (3.4.1)\r\n",
      "Requirement already satisfied: idna<4,>=2.5 in /usr/local/lib/python3.11/dist-packages (from requests->youtube_transcript_api) (3.10)\r\n",
      "Requirement already satisfied: urllib3<3,>=1.21.1 in /usr/local/lib/python3.11/dist-packages (from requests->youtube_transcript_api) (2.3.0)\r\n",
      "Requirement already satisfied: certifi>=2017.4.17 in /usr/local/lib/python3.11/dist-packages (from requests->youtube_transcript_api) (2025.1.31)\r\n",
      "Downloading youtube_transcript_api-1.0.3-py3-none-any.whl (2.2 MB)\r\n",
      "\u001b[2K   \u001b[90m━━━━━━━━━━━━━━━━━━━━━━━━━━━━━━━━━━━━━━━━\u001b[0m \u001b[32m2.2/2.2 MB\u001b[0m \u001b[31m24.1 MB/s\u001b[0m eta \u001b[36m0:00:00\u001b[0m\r\n",
      "\u001b[?25hInstalling collected packages: youtube_transcript_api\r\n",
      "Successfully installed youtube_transcript_api-1.0.3\r\n"
     ]
    }
   ],
   "source": [
    "!pip uninstall -qqy jupyterlab  # Remove unused conflicting packages\n",
    "!pip install -U -q \"google-genai==1.7.0\"\n",
    "!pip install youtube_transcript_api\n"
   ]
  },
  {
   "cell_type": "code",
   "execution_count": 2,
   "id": "ff4626f5",
   "metadata": {
    "execution": {
     "iopub.execute_input": "2025-04-21T06:03:02.103150Z",
     "iopub.status.busy": "2025-04-21T06:03:02.102781Z",
     "iopub.status.idle": "2025-04-21T06:03:03.424992Z",
     "shell.execute_reply": "2025-04-21T06:03:03.424133Z"
    },
    "papermill": {
     "duration": 1.329065,
     "end_time": "2025-04-21T06:03:03.426735",
     "exception": false,
     "start_time": "2025-04-21T06:03:02.097670",
     "status": "completed"
    },
    "tags": []
   },
   "outputs": [],
   "source": [
    "from google import genai\n",
    "from google.genai import types\n",
    "\n",
    "from youtube_transcript_api import YouTubeTranscriptApi as yta\n",
    "\n",
    "from IPython.display import Markdown\n",
    "\n",
    "# genai.__version__"
   ]
  },
  {
   "cell_type": "markdown",
   "id": "59d363f0",
   "metadata": {
    "papermill": {
     "duration": 0.003733,
     "end_time": "2025-04-21T06:03:03.436142",
     "exception": false,
     "start_time": "2025-04-21T06:03:03.432409",
     "status": "completed"
    },
    "tags": []
   },
   "source": [
    "#### Set up your API key\n",
    "To run the following cell, your API key must be stored it in a Kaggle secret named GOOGLE_API_KEY.\n",
    "\n",
    "If you don't already have an API key, you can grab one from AI Studio. You can find detailed instructions in the docs.\n",
    "\n",
    "To make the key available through Kaggle secrets, choose Secrets from the Add-ons menu and follow the instructions to add your key or enable it for this notebook."
   ]
  },
  {
   "cell_type": "code",
   "execution_count": 3,
   "id": "1a53081a",
   "metadata": {
    "execution": {
     "iopub.execute_input": "2025-04-21T06:03:03.445700Z",
     "iopub.status.busy": "2025-04-21T06:03:03.444733Z",
     "iopub.status.idle": "2025-04-21T06:03:03.529678Z",
     "shell.execute_reply": "2025-04-21T06:03:03.528884Z"
    },
    "papermill": {
     "duration": 0.091234,
     "end_time": "2025-04-21T06:03:03.531241",
     "exception": false,
     "start_time": "2025-04-21T06:03:03.440007",
     "status": "completed"
    },
    "tags": []
   },
   "outputs": [],
   "source": [
    "from kaggle_secrets import UserSecretsClient\n",
    "\n",
    "GOOGLE_API_KEY = UserSecretsClient().get_secret(\"GOOGLE_API_KEY\")"
   ]
  },
  {
   "cell_type": "code",
   "execution_count": 4,
   "id": "337ad6d3",
   "metadata": {
    "execution": {
     "iopub.execute_input": "2025-04-21T06:03:03.540416Z",
     "iopub.status.busy": "2025-04-21T06:03:03.540116Z",
     "iopub.status.idle": "2025-04-21T06:03:04.129640Z",
     "shell.execute_reply": "2025-04-21T06:03:04.128637Z"
    },
    "papermill": {
     "duration": 0.595677,
     "end_time": "2025-04-21T06:03:04.131105",
     "exception": false,
     "start_time": "2025-04-21T06:03:03.535428",
     "status": "completed"
    },
    "tags": []
   },
   "outputs": [
    {
     "name": "stdout",
     "output_type": "stream",
     "text": [
      "models/embedding-001\n",
      "models/text-embedding-004\n",
      "models/gemini-embedding-exp-03-07\n",
      "models/gemini-embedding-exp\n"
     ]
    }
   ],
   "source": [
    "client = genai.Client(api_key=GOOGLE_API_KEY)\n",
    "\n",
    "for m in client.models.list():\n",
    "    if \"embedContent\" in m.supported_actions:\n",
    "        print(m.name)"
   ]
  },
  {
   "attachments": {
    "c5b67da3-a61c-42d4-a95c-fb03a4dfa54f.png": {
     "image/png": "[encoded data removed]"
    }
   },
   "cell_type": "markdown",
   "id": "c442b232",
   "metadata": {
    "papermill": {
     "duration": 0.003654,
     "end_time": "2025-04-21T06:03:04.138814",
     "exception": false,
     "start_time": "2025-04-21T06:03:04.135160",
     "status": "completed"
    },
    "tags": []
   },
   "source": [
    "If you received an error response along the lines of No user secrets exist for kernel id ..., then you need to add your API key via Add-ons, Secrets and enable it.\n",
    "\n",
    "![image.png](attachment:c5b67da3-a61c-42d4-a95c-fb03a4dfa54f.png)\n",
    "\n"
   ]
  },
  {
   "cell_type": "code",
   "execution_count": 5,
   "id": "55a0d273",
   "metadata": {
    "execution": {
     "iopub.execute_input": "2025-04-21T06:03:04.147756Z",
     "iopub.status.busy": "2025-04-21T06:03:04.147482Z",
     "iopub.status.idle": "2025-04-21T06:03:04.151196Z",
     "shell.execute_reply": "2025-04-21T06:03:04.150554Z"
    },
    "papermill": {
     "duration": 0.009833,
     "end_time": "2025-04-21T06:03:04.152549",
     "exception": false,
     "start_time": "2025-04-21T06:03:04.142716",
     "status": "completed"
    },
    "tags": []
   },
   "outputs": [],
   "source": [
    "# sample Comp Sci lectures to get transcripts from\n",
    "link = 'https://www.youtube.com/watch?v=k6U-i4gXkLM'"
   ]
  },
  {
   "cell_type": "markdown",
   "id": "078448e1",
   "metadata": {
    "papermill": {
     "duration": 0.003701,
     "end_time": "2025-04-21T06:03:04.160365",
     "exception": false,
     "start_time": "2025-04-21T06:03:04.156664",
     "status": "completed"
    },
    "tags": []
   },
   "source": [
    "## get_transcript\n",
    "\n",
    "A function used to extract a video's transcript based off of their link\n"
   ]
  },
  {
   "cell_type": "code",
   "execution_count": 6,
   "id": "9ea28124",
   "metadata": {
    "execution": {
     "iopub.execute_input": "2025-04-21T06:03:04.169733Z",
     "iopub.status.busy": "2025-04-21T06:03:04.169426Z",
     "iopub.status.idle": "2025-04-21T06:03:04.174025Z",
     "shell.execute_reply": "2025-04-21T06:03:04.173322Z"
    },
    "papermill": {
     "duration": 0.011117,
     "end_time": "2025-04-21T06:03:04.175397",
     "exception": false,
     "start_time": "2025-04-21T06:03:04.164280",
     "status": "completed"
    },
    "tags": []
   },
   "outputs": [],
   "source": [
    "def get_transcript(youtube_url):\n",
    "    vid_id = youtube_url.split('=')[1]\n",
    "    raw_transcript = yta.get_transcript(vid_id)\n",
    "\n",
    "    transcript = ''\n",
    "\n",
    "    for line in raw_transcript:\n",
    "        transcript+=' ' + line['text']\n",
    "\n",
    "    return transcript"
   ]
  },
  {
   "cell_type": "code",
   "execution_count": 7,
   "id": "6745dc50",
   "metadata": {
    "execution": {
     "iopub.execute_input": "2025-04-21T06:03:04.184671Z",
     "iopub.status.busy": "2025-04-21T06:03:04.184379Z",
     "iopub.status.idle": "2025-04-21T06:03:04.846540Z",
     "shell.execute_reply": "2025-04-21T06:03:04.845821Z"
    },
    "papermill": {
     "duration": 0.668516,
     "end_time": "2025-04-21T06:03:04.848081",
     "exception": false,
     "start_time": "2025-04-21T06:03:04.179565",
     "status": "completed"
    },
    "tags": []
   },
   "outputs": [],
   "source": [
    "# Get a sample transcript, courtesy of MIT 6.00 - Introduction to Computer Science and Programming, Fall 2008\n",
    "transcript = get_transcript(link)"
   ]
  },
  {
   "cell_type": "markdown",
   "id": "3be3040d",
   "metadata": {
    "papermill": {
     "duration": 0.003832,
     "end_time": "2025-04-21T06:03:04.856274",
     "exception": false,
     "start_time": "2025-04-21T06:03:04.852442",
     "status": "completed"
    },
    "tags": []
   },
   "source": [
    "## Documenting understanding and JSON output\n",
    "\n",
    "Now, create a prompt that leverages the model's JSON mode to produce an organized JSON output with the video's summary, 10 relevant keywords, and video tags."
   ]
  },
  {
   "cell_type": "code",
   "execution_count": 8,
   "id": "56a8434f",
   "metadata": {
    "execution": {
     "iopub.execute_input": "2025-04-21T06:03:04.865422Z",
     "iopub.status.busy": "2025-04-21T06:03:04.865096Z",
     "iopub.status.idle": "2025-04-21T06:03:07.408086Z",
     "shell.execute_reply": "2025-04-21T06:03:07.407022Z"
    },
    "papermill": {
     "duration": 2.549679,
     "end_time": "2025-04-21T06:03:07.409875",
     "exception": false,
     "start_time": "2025-04-21T06:03:04.860196",
     "status": "completed"
    },
    "tags": []
   },
   "outputs": [
    {
     "name": "stdout",
     "output_type": "stream",
     "text": [
      "{\n",
      "  \"summary\": \"This lecture serves as an introduction to the MIT course 6.00, Introduction to Computer Science and Programming. Professors Eric Grimson and John Guttag outline the course's strategic and tactical goals. The course aims to prepare students, especially those without prior programming experience, for further studies in computer science. It also seeks to equip non-computer science majors with the ability to confidently write and read small code snippets. The course emphasizes understanding the capabilities and limitations of computation in tackling technical problems. Students will learn to use computational thinking to write small-scale programs, understand programs written by others, and map scientific problems into a computational framework. The lecture also covers course administration, including class schedules, recitation sessions, problem sets in Python, quizzes, and grading policies. The professors stress the importance of seeking help when needed and encourage students to take their own notes for better learning. The lecture concludes with an introduction to computation, declarative vs imperative knowledge, the concept of stored-program computers, and the basics of Python, including data types, operators, expressions, and commands.\",\n",
      "  \"keywords\": [\n",
      "    \"computer science\",\n",
      "    \"programming\",\n",
      "    \"computational thinking\",\n",
      "    \"Python\",\n",
      "    \"course introduction\",\n",
      "    \"strategic goals\",\n",
      "    \"tactical goals\",\n",
      "    \"problem solving\",\n",
      "    \"course administration\",\n",
      "    \"imperative knowledge\"\n",
      "  ],\n",
      "  \"tags\": [\n",
      "    \"Introduction to Computer Science\",\n",
      "    \"Programming Fundamentals\",\n",
      "    \"Computational Thinking\",\n",
      "    \"Python Programming\",\n",
      "    \"MIT OpenCourseware\"\n",
      "  ]\n",
      "}\n"
     ]
    }
   ],
   "source": [
    "import typing_extensions as typing\n",
    "\n",
    "prompt = \"Give me a maximum of 400 word summary, 5 video tags of relevant topics, and the top 10 relevant keywords from the following transcript:\"\n",
    "\n",
    "class YoutubeResponse(typing.TypedDict):\n",
    "    summary: str\n",
    "    keywords: list[str]\n",
    "    tags: list[str]\n",
    "\n",
    "response = client.models.generate_content(\n",
    "    model='gemini-2.0-flash',\n",
    "    config=types.GenerateContentConfig(\n",
    "        temperature=0.1,\n",
    "        response_mime_type=\"application/json\",\n",
    "        response_schema=YoutubeResponse,\n",
    "    ),\n",
    "    contents=prompt + transcript)\n",
    "\n",
    "print(response.text)\n",
    "\n",
    "\n",
    "\n",
    "    "
   ]
  },
  {
   "cell_type": "markdown",
   "id": "b7f2c710",
   "metadata": {
    "papermill": {
     "duration": 0.004121,
     "end_time": "2025-04-21T06:03:07.419326",
     "exception": false,
     "start_time": "2025-04-21T06:03:07.415205",
     "status": "completed"
    },
    "tags": []
   },
   "source": [
    "## One-shot prompt\n",
    "\n",
    "Now create a one shot prompt to create an outline from the provided video. "
   ]
  },
  {
   "cell_type": "code",
   "execution_count": 9,
   "id": "6d90fedc",
   "metadata": {
    "execution": {
     "iopub.execute_input": "2025-04-21T06:03:07.428960Z",
     "iopub.status.busy": "2025-04-21T06:03:07.428626Z",
     "iopub.status.idle": "2025-04-21T06:03:13.209389Z",
     "shell.execute_reply": "2025-04-21T06:03:13.208508Z"
    },
    "papermill": {
     "duration": 5.787687,
     "end_time": "2025-04-21T06:03:13.211282",
     "exception": false,
     "start_time": "2025-04-21T06:03:07.423595",
     "status": "completed"
    },
    "tags": []
   },
   "outputs": [
    {
     "name": "stdout",
     "output_type": "stream",
     "text": [
      "Okay, here's an outline of the lecture transcript, suitable for study purposes:\n",
      "\n",
      "**Outline:**\n",
      "\n",
      "1.  **Course Introduction**\n",
      "    *   Instructors: Eric Grimson and John Guttag\n",
      "    *   Course Importance:  Emphasized as a serious and important course for learning about computation.\n",
      "    *   Course Goals:\n",
      "        *   Administrivia\n",
      "        *   Course Goals\n",
      "        *   Concepts and Tools of Computational Thinking\n",
      "\n",
      "2.  **Strategic Course Goals**\n",
      "    *   Prepare freshmen/sophomores for Course 6 (EECS) entry, especially those with limited programming experience.\n",
      "    *   Enable non-Course 6 majors to confidently write and read small code snippets.\n",
      "    *   Provide understanding of computation's role (and limitations) in tackling technical problems.\n",
      "    *   Position students to compete for internships/jobs by developing computational problem-solving skills.\n",
      "    *   Targeted at students with little to no prior programming experience.\n",
      "\n",
      "3.  **Tactical Course Goals (Skills to Acquire)**\n",
      "    *   Use basic computational thinking tools to write small programs.\n",
      "    *   Use a vocabulary of computational tools to understand programs written by others.\n",
      "    *   Understand the fundamental capabilities and limitations of computations, and their associated costs.\n",
      "    *   Map scientific problems into a computational frame.\n",
      "\n",
      "4.  **Course Administration (Administrivia)**\n",
      "    *   Lectures: Tuesdays and Thursdays at 11:00 AM (2 hours/week)\n",
      "    *   Recitation: Fridays (1 hour/week) - Sign up form on website.\n",
      "    *   Outside Work: 9 hours/week (primarily problem sets in Python)\n",
      "    *   Problem Sets:\n",
      "        *   First problem sets are easy, increasing in complexity.\n",
      "        *   Heavy use of libraries (code written by others).\n",
      "        *   Focus on learning, not weeding out.  Seek help if needed.\n",
      "    *   Quizzes:\n",
      "        *   Two quizzes during the term (October 2nd and November 4th - check website).\n",
      "        *   Final Exam (during final exam period).\n",
      "        *   Open book/open note.\n",
      "        *   Conflicts/Special Needs:  Contact instructors well in advance.\n",
      "    *   Grading:\n",
      "        *   Problem Sets: 55%\n",
      "        *   Quizzes: 10%, 15%, 20%\n",
      "    *   Problem Set Zero: Already posted (easy, Python setup).\n",
      "    *   Paperless Subject: Website is the primary resource.\n",
      "    *   No Required Text:  Suggested text on the website.\n",
      "    *   Attendance: Not mandatory, but important (material not in readings will be covered).\n",
      "    *   No Class Notes:  Handouts with code examples will be provided.\n",
      "    *   Instructor/TA Support: Available to help students learn.\n",
      "\n",
      "5.  **Additional Points (Guttag)**\n",
      "    *   Class is being videotaped for OpenCourseWare.\n",
      "    *   Recitations are very important (material not in lectures/readings).\n",
      "\n",
      "6.  **What is Computation?**\n",
      "    *   Goal: Think like a computer scientist (make the computer do what you want).\n",
      "    *   Computational Problem Solving: Key takeaway.\n",
      "    *   Memorization is not the key.\n",
      "    *   Separate the mechanism (computer) from computational thinking.\n",
      "\n",
      "7.  **What is Knowledge?**\n",
      "    *   Declarative Knowledge: Statements of fact (e.g., definition of square root). Doesn't tell you *how* to find it.\n",
      "    *   Imperative Knowledge: Description of *how* to deduce something (e.g., Heron's method for square roots).  A recipe.\n",
      "\n",
      "8.  **Mechanical Processes and Computers**\n",
      "    *   Computation is about capturing the \"how-to\" process.\n",
      "    *   Early Computers: Fixed-program computers (e.g., calculators).\n",
      "    *   Desirable Circuit: A circuit that can take any other circuit diagram as input and reconfigure itself to act like that circuit.\n",
      "    *   Interpreter: A machine that takes a recipe (sequence of steps) as input and acts according to that recipe.\n",
      "    *   Stored-Program Computer:  Can be provided with a sequence of instructions (a program) to execute.\n",
      "\n",
      "9.  **Stored-Program Computer Architecture**\n",
      "    *   Memory: Stores both data and instructions.\n",
      "    *   Control Unit & ALU (Arithmetic Logic Unit): Performs operations.\n",
      "    *   Program Counter: Points to the current instruction in memory.\n",
      "    *   Instructions: Simple operations (e.g., move data, perform arithmetic).\n",
      "    *   Flow\n"
     ]
    }
   ],
   "source": [
    "one_shot_prompt = '''\n",
    "Create an outline for the transcript provided. For lectures, this should serve as an outline for what students might have to study/focus on.\n",
    "\n",
    "Example:\n",
    "Give me an outline for the \n",
    "Outline:\n",
    "1. Course Outline\n",
    "2. Java variables\n",
    "    - typing\n",
    "3. Functions\n",
    "    - return statements\n",
    "'''\n",
    "\n",
    "response = client.models.generate_content(\n",
    "    model='gemini-2.0-flash',\n",
    "    config=types.GenerateContentConfig(\n",
    "        temperature=0.1,\n",
    "        top_p=1,\n",
    "        max_output_tokens=1000,\n",
    "    ),\n",
    "    contents=[one_shot_prompt, transcript])\n",
    "\n",
    "print(response.text)"
   ]
  },
  {
   "cell_type": "markdown",
   "id": "33b9413c",
   "metadata": {
    "papermill": {
     "duration": 0.006389,
     "end_time": "2025-04-21T06:03:13.225337",
     "exception": false,
     "start_time": "2025-04-21T06:03:13.218948",
     "status": "completed"
    },
    "tags": []
   },
   "source": [
    "## Topics Covered\n",
    "\n",
    "- structured output/JSON mode/controlled generation\n",
    "- document understanding\n",
    "- one shot prompting"
   ]
  },
  {
   "cell_type": "code",
   "execution_count": null,
   "id": "cedbabfd",
   "metadata": {
    "papermill": {
     "duration": 0.003909,
     "end_time": "2025-04-21T06:03:13.233370",
     "exception": false,
     "start_time": "2025-04-21T06:03:13.229461",
     "status": "completed"
    },
    "tags": []
   },
   "outputs": [],
   "source": []
  }
 ],
 "metadata": {
  "kaggle": {
   "accelerator": "none",
   "dataSources": [
    {
     "sourceId": 97258,
     "sourceType": "competition"
    }
   ],
   "dockerImageVersionId": 31012,
   "isGpuEnabled": false,
   "isInternetEnabled": true,
   "language": "python",
   "sourceType": "notebook"
  },
  "kernelspec": {
   "display_name": "Python 3",
   "language": "python",
   "name": "python3"
  },
  "language_info": {
   "codemirror_mode": {
    "name": "ipython",
    "version": 3
   },
   "file_extension": ".py",
   "mimetype": "text/x-python",
   "name": "python",
   "nbconvert_exporter": "python",
   "pygments_lexer": "ipython3",
   "version": "3.11.11"
  },
  "papermill": {
   "default_parameters": {},
   "duration": 28.978096,
   "end_time": "2025-04-21T06:03:13.858277",
   "environment_variables": {},
   "exception": null,
   "input_path": "__notebook__.ipynb",
   "output_path": "__notebook__.ipynb",
   "parameters": {},
   "start_time": "2025-04-21T06:02:44.880181",
   "version": "2.6.0"
  }
 },
 "nbformat": 4,
 "nbformat_minor": 5
}
